{
  "nbformat": 4,
  "nbformat_minor": 0,
  "metadata": {
    "colab": {
      "name": "FundamentosPYTHON.ipynb",
      "provenance": [],
      "collapsed_sections": [],
      "authorship_tag": "ABX9TyP87S/0EMDoqWlRoQ9LXP3G",
      "include_colab_link": true
    },
    "kernelspec": {
      "name": "python3",
      "display_name": "Python 3"
    },
    "language_info": {
      "name": "python"
    }
  },
  "cells": [
    {
      "cell_type": "markdown",
      "metadata": {
        "id": "view-in-github",
        "colab_type": "text"
      },
      "source": [
        "<a href=\"https://colab.research.google.com/github/ajpj1/Antonio-Jesuz/blob/main/FundamentosPYTHON.ipynb\" target=\"_parent\"><img src=\"https://colab.research.google.com/assets/colab-badge.svg\" alt=\"Open In Colab\"/></a>"
      ]
    },
    {
      "cell_type": "markdown",
      "source": [
        "**Condicional**"
      ],
      "metadata": {
        "id": "0kXqGmjN95N8"
      }
    },
    {
      "cell_type": "markdown",
      "source": [
        ""
      ],
      "metadata": {
        "id": "LT21ACOs7tvr"
      }
    },
    {
      "cell_type": "code",
      "source": [
        "total = 100\n",
        "if total > 101:\n",
        "  print('greater than 100')\n",
        "else:\n",
        "  print(\"Opsss\")"
      ],
      "metadata": {
        "colab": {
          "base_uri": "https://localhost:8080/"
        },
        "id": "eq9ZzgAs7yba",
        "outputId": "932856ea-54aa-4aa8-9d47-435822f1214f"
      },
      "execution_count": null,
      "outputs": [
        {
          "output_type": "stream",
          "name": "stdout",
          "text": [
            "Opsss\n"
          ]
        }
      ]
    },
    {
      "cell_type": "markdown",
      "source": [
        "**#Condicional else, elif**\n"
      ],
      "metadata": {
        "id": "-1_ATFIF8Yrf"
      }
    },
    {
      "cell_type": "code",
      "source": [
        "total = 101\n",
        "if total > 100:\n",
        "  print('greater than 100')\n",
        "elif total < 100:\n",
        "  print('Other condition')\n",
        "else:\n",
        "  print(\"Opssss\")"
      ],
      "metadata": {
        "colab": {
          "base_uri": "https://localhost:8080/"
        },
        "id": "YwfraVbM8YMK",
        "outputId": "076dc4d5-f787-4953-d20e-9934937d058d"
      },
      "execution_count": null,
      "outputs": [
        {
          "output_type": "stream",
          "name": "stdout",
          "text": [
            "greater than 100\n"
          ]
        }
      ]
    },
    {
      "cell_type": "markdown",
      "source": [
        "**Estrutura For**"
      ],
      "metadata": {
        "id": "JwRkpnoj85S4"
      }
    },
    {
      "cell_type": "code",
      "source": [
        "list = [2,4,6,8,10]\n",
        "\n",
        "for item in list[0:3]:\n",
        "  if item >2:\n",
        "    print(\"Greater Than 2\")"
      ],
      "metadata": {
        "colab": {
          "base_uri": "https://localhost:8080/"
        },
        "id": "jALczSdG88Up",
        "outputId": "2c1d41c9-9e2b-45ce-8105-b7bdb574497a"
      },
      "execution_count": null,
      "outputs": [
        {
          "output_type": "stream",
          "name": "stdout",
          "text": [
            "Greater Than 2\n",
            "Greater Than 2\n"
          ]
        }
      ]
    },
    {
      "cell_type": "markdown",
      "source": [
        "**Estrutura While**"
      ],
      "metadata": {
        "id": "CPiBMopq-sz6"
      }
    },
    {
      "cell_type": "code",
      "source": [
        "number = 5\n",
        "\n",
        "while number < 10:\n",
        "  print(number)\n",
        "  number += 1\n",
        " #if number == 8:\n",
        "  #  print(\"Break!\")\n",
        "  #  break\"\n",
        "else:\n",
        "  print(\"not true anymore\")"
      ],
      "metadata": {
        "colab": {
          "base_uri": "https://localhost:8080/"
        },
        "id": "ygFaJJ1z-xi5",
        "outputId": "718af125-d294-44be-c47e-19ddd64c8897"
      },
      "execution_count": null,
      "outputs": [
        {
          "output_type": "stream",
          "name": "stdout",
          "text": [
            "5\n",
            "6\n",
            "7\n",
            "8\n",
            "9\n",
            "not true anymore\n"
          ]
        }
      ]
    },
    {
      "cell_type": "markdown",
      "source": [
        "**Funções em Python**"
      ],
      "metadata": {
        "id": "xIPWu4xr_y8b"
      }
    },
    {
      "cell_type": "code",
      "source": [
        "def call_numbers():\n",
        "  for number in range(0,10):\n",
        "    print(number)\n",
        "\n",
        "def call_numbers_with_limit(limit):\n",
        "  list = range(0,10)\n",
        "  for number in list[0:limit]:\n",
        "    print(number)\n",
        "\n",
        "\n",
        "call_numbers_with_limit(5)"
      ],
      "metadata": {
        "colab": {
          "base_uri": "https://localhost:8080/"
        },
        "id": "B4Ck-4a3_2Ky",
        "outputId": "ed29b819-cc39-47ab-d4a6-741c3f3ff19c"
      },
      "execution_count": null,
      "outputs": [
        {
          "output_type": "stream",
          "name": "stdout",
          "text": [
            "0\n",
            "1\n",
            "2\n",
            "3\n",
            "4\n"
          ]
        }
      ]
    },
    {
      "cell_type": "markdown",
      "source": [
        "**Parametros nomeados e return**"
      ],
      "metadata": {
        "id": "i0MVHVMABcCT"
      }
    },
    {
      "cell_type": "code",
      "source": [
        "def call_numbers():\n",
        "  for number in range(0,10):\n",
        "    print(number)\n",
        "\n",
        "def call_numbers_with_limit(limit):\n",
        "  list = range(0,10)\n",
        "  for number in range(limit):\n",
        "    print(number)\n",
        "\n",
        "\n",
        "def calculator(x=10,y=15):\n",
        "  return x - y\n",
        "\n",
        "result = calculator(5)\n",
        "print(\"Result is\", result)"
      ],
      "metadata": {
        "colab": {
          "base_uri": "https://localhost:8080/"
        },
        "id": "NTJaIpQHBgv1",
        "outputId": "752afbad-a910-40ea-ec8a-faa497cbfd24"
      },
      "execution_count": null,
      "outputs": [
        {
          "output_type": "stream",
          "name": "stdout",
          "text": [
            "Result is -10\n"
          ]
        }
      ]
    },
    {
      "cell_type": "markdown",
      "source": [
        "**Trabalhando com dicionários**"
      ],
      "metadata": {
        "id": "2pKhwZwlFZr9"
      }
    },
    {
      "cell_type": "code",
      "source": [
        "cars = {}\n",
        "cars['corola'] = \"red\"\n",
        "cars['fit'] = \"green\"\n",
        "cars['320'] = \"black\"\n",
        "\n",
        "cars\n",
        "cars.keys()\n",
        "cars['corola']"
      ],
      "metadata": {
        "colab": {
          "base_uri": "https://localhost:8080/",
          "height": 36
        },
        "id": "txxzq8aHFdlU",
        "outputId": "248e490e-2826-4429-cc6b-5c6fd54515fe"
      },
      "execution_count": null,
      "outputs": [
        {
          "output_type": "execute_result",
          "data": {
            "application/vnd.google.colaboratory.intrinsic+json": {
              "type": "string"
            },
            "text/plain": [
              "'red'"
            ]
          },
          "metadata": {},
          "execution_count": 62
        }
      ]
    },
    {
      "cell_type": "code",
      "source": [
        ""
      ],
      "metadata": {
        "id": "FjbqJKT5GXNb"
      },
      "execution_count": null,
      "outputs": []
    },
    {
      "cell_type": "markdown",
      "source": [
        "**Iterando em dicionários**"
      ],
      "metadata": {
        "id": "H-BfHoZfG9OD"
      }
    },
    {
      "cell_type": "code",
      "source": [
        "cars = {}\n",
        "cars['corola'] = \"red\"\n",
        "cars['fit'] = \"green\"\n",
        "cars['320'] = \"black\"\n",
        "\n",
        "#for key, value in cars.items():\n",
        " # print(key, + \" = \" + value)\n",
        "\n",
        "for car in cars:\n",
        "  print(car + \" = \" + cars[car])"
      ],
      "metadata": {
        "colab": {
          "base_uri": "https://localhost:8080/"
        },
        "id": "9sqT0zCbHAds",
        "outputId": "c60fd8dc-a62d-4265-af7e-364f16a975c3"
      },
      "execution_count": null,
      "outputs": [
        {
          "output_type": "stream",
          "name": "stdout",
          "text": [
            "corola = red\n",
            "fit = green\n",
            "320 = black\n"
          ]
        }
      ]
    },
    {
      "cell_type": "code",
      "source": [
        ""
      ],
      "metadata": {
        "id": "IPEttTtoHMMN"
      },
      "execution_count": null,
      "outputs": []
    }
  ]
}