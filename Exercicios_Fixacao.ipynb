{
  "nbformat": 4,
  "nbformat_minor": 0,
  "metadata": {
    "colab": {
      "name": "Exercicios_Fixacao.ipynb",
      "provenance": [],
      "authorship_tag": "ABX9TyP28zBy68+7Vyu1ta4u8ekz",
      "include_colab_link": true
    },
    "kernelspec": {
      "name": "python3",
      "display_name": "Python 3"
    },
    "language_info": {
      "name": "python"
    }
  },
  "cells": [
    {
      "cell_type": "markdown",
      "metadata": {
        "id": "view-in-github",
        "colab_type": "text"
      },
      "source": [
        "<a href=\"https://colab.research.google.com/github/ajpj1/Antonio-Jesuz/blob/main/Exercicios_Fixacao.ipynb\" target=\"_parent\"><img src=\"https://colab.research.google.com/assets/colab-badge.svg\" alt=\"Open In Colab\"/></a>"
      ]
    },
    {
      "cell_type": "markdown",
      "source": [
        "**Sabendo que str( ) converte valores numéricos para string, calcule quantos dígitos há em 2 elevado a um milhão**"
      ],
      "metadata": {
        "id": "alB3qOpKXikK"
      }
    },
    {
      "cell_type": "code",
      "execution_count": 3,
      "metadata": {
        "colab": {
          "base_uri": "https://localhost:8080/"
        },
        "id": "IgqYtFKzXiDd",
        "outputId": "2516bc05-fa62-4909-b685-04bf6c95bc8a"
      },
      "outputs": [
        {
          "output_type": "stream",
          "name": "stdout",
          "text": [
            "A quantidade de digitos é: 301030\n"
          ]
        }
      ],
      "source": [
        "n=str(int(2**1000000))\n",
        "print('A quantidade de digitos é: %s' %len(n))"
      ]
    },
    {
      "cell_type": "markdown",
      "source": [
        "**Calcule o tempo de uma viagem de carro. Pergunte a distância a percorrer e a velocidade média esperada para a viagem**"
      ],
      "metadata": {
        "id": "k8IMSX9IYnjv"
      }
    },
    {
      "cell_type": "code",
      "source": [
        "print('----Calculo Tempo de Viagem de Automovel----')\n",
        "\n",
        "dist = float(input('Insira a Distancia a ser Percorrida: ').replace(',', '.'))\n",
        "vel = float(input('Insira a velocidade media: ').replace(',', '.'))\n",
        "\n",
        "tempo = dist / vel\n",
        "min = (round(tempo % 1, 2))\n",
        "min = (min * 60)\n",
        "\n",
        "print('O tempo esperado da viagem é de {:.0f} horas e {:.0f} minutos'.format(tempo,min))"
      ],
      "metadata": {
        "colab": {
          "base_uri": "https://localhost:8080/"
        },
        "id": "a5wEiOX7Ysn3",
        "outputId": "032966fe-d6cb-40fc-f30e-fd8dcbb3928d"
      },
      "execution_count": 5,
      "outputs": [
        {
          "output_type": "stream",
          "name": "stdout",
          "text": [
            "----Calculo Tempo de Viagem de Automovel----\n",
            "Insira a Distancia a ser Percorrida: 2000\n",
            "Insira a velocidade media: 110\n",
            "O tempo esperado da viagem é de 18 horas e 11 minutos\n"
          ]
        }
      ]
    },
    {
      "cell_type": "markdown",
      "source": [
        "**Faça um algoritmo que solicite 3 notas para o usuário, calcule a média e indique se o aluno foi aprovado ou reprovado (nota precisar ser maior ou igual à sete para o aluno ser aprovado).**"
      ],
      "metadata": {
        "id": "EpBx5TdodYIA"
      }
    },
    {
      "cell_type": "code",
      "source": [
        "nota1 = float(input(\"Digite a primeira nota: \"))\n",
        "nota2 = float(input(\"Digite a segunda nota: \"))\n",
        "nota3 = float(input(\"Digite a terceira nota: \"))\n",
        "media = ( nota1 + nota2 + nota3 ) / 3\n",
        "\n",
        "if media >= 7:\n",
        "    print(\"Aprovado\")\n",
        "else:\n",
        "    print(\"Reprovado\")\n"
      ],
      "metadata": {
        "colab": {
          "base_uri": "https://localhost:8080/"
        },
        "id": "XpELWY3-lyUU",
        "outputId": "28c67910-a3da-449b-8e36-b4d42b1bb359"
      },
      "execution_count": 19,
      "outputs": [
        {
          "output_type": "stream",
          "name": "stdout",
          "text": [
            "Digite a primeira nota: 1\n",
            "Digite a segunda nota: 1\n",
            "Digite a terceira nota: 1\n",
            "Reprovado\n"
          ]
        }
      ]
    },
    {
      "cell_type": "markdown",
      "source": [
        ""
      ],
      "metadata": {
        "id": "BR1XOOhBmoyM"
      }
    }
  ]
}