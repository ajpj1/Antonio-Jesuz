{
  "nbformat": 4,
  "nbformat_minor": 0,
  "metadata": {
    "colab": {
      "name": "Exercicios2.ipynb",
      "provenance": [],
      "authorship_tag": "ABX9TyNnploaoicXjdHn4KaNtm7j",
      "include_colab_link": true
    },
    "kernelspec": {
      "name": "python3",
      "display_name": "Python 3"
    },
    "language_info": {
      "name": "python"
    }
  },
  "cells": [
    {
      "cell_type": "markdown",
      "metadata": {
        "id": "view-in-github",
        "colab_type": "text"
      },
      "source": [
        "<a href=\"https://colab.research.google.com/github/ajpj1/Antonio-Jesuz/blob/main/Exercicios2.ipynb\" target=\"_parent\"><img src=\"https://colab.research.google.com/assets/colab-badge.svg\" alt=\"Open In Colab\"/></a>"
      ]
    },
    {
      "cell_type": "markdown",
      "source": [
        "**Faça um programa que solicite ao usuário sua idade, depois disso, exiba a classificação etária de acordo com as faixas de valores:\n",
        "Criança para 0 até 11 anos;\n",
        "Adolescente para 12 até 18 anos;\n",
        "Jovem para 19 até 24 anos;\n",
        "Adulto para 25 até 40 anos;\n",
        "Meia Idade para 41 até 60 anos;\n",
        "Idoso acima de 60 anos.**\n"
      ],
      "metadata": {
        "id": "BhdMtXE0nJ8S"
      }
    },
    {
      "cell_type": "code",
      "source": [
        "idade = int(input(\"Digite sua idade: \"))\n",
        "\n",
        "if idade >=0 and idade <=11:\n",
        "  print(\"Criança\")\n",
        "\n",
        "elif idade >=12 and idade <=18:\n",
        "  print(\"Adolescente\")\n",
        "\n",
        "elif idade >=19 and idade <=24:\n",
        "  print(\"Jovem\")\n",
        "\n",
        "elif idade >=25 and idade <=40:\n",
        "  print(\"Adulto\")\n",
        "\n",
        "elif idade >=41 and idade <=60:\n",
        "  print(\"Meia idade\")\n",
        "\n",
        "elif idade >=60:\n",
        "  print(\"Idoso\")"
      ],
      "metadata": {
        "colab": {
          "base_uri": "https://localhost:8080/"
        },
        "id": "za4_Hcg5nqlq",
        "outputId": "11c760f7-f9d7-495a-bd41-418cbb0d097e"
      },
      "execution_count": 8,
      "outputs": [
        {
          "output_type": "stream",
          "name": "stdout",
          "text": [
            "Digite sua idade: 27\n",
            "Adulto\n"
          ]
        }
      ]
    },
    {
      "cell_type": "markdown",
      "source": [
        "**Faça um programa que inicialize uma lista vazia e solicite ao usuário 3 nomes de cidades, um por vez, cada vez que o usuário digitar um nome, o programa deve incluir este nome na lista de cidades.**"
      ],
      "metadata": {
        "id": "W3otSw2Fo6_w"
      }
    },
    {
      "cell_type": "code",
      "source": [
        "cidades = []\n",
        "\n",
        "cidade = input(\"Digite o nome da primeira cidade: \")\n",
        "cidades.append(cidade)\n",
        "\n",
        "cidades.append(input(\"Digite o nome da segunda cidade: \"))\n",
        "cidades.append(input(\"Digite o nome da terceira cidade: \"))\n",
        "print(cidades)"
      ],
      "metadata": {
        "colab": {
          "base_uri": "https://localhost:8080/"
        },
        "id": "QQENu8XEo9s_",
        "outputId": "02ccaa18-7bda-4e97-e4bb-5da0b281fee1"
      },
      "execution_count": 11,
      "outputs": [
        {
          "output_type": "stream",
          "name": "stdout",
          "text": [
            "Digite o nome da primeira cidade: Resende\n",
            "Digite o nome da segunda cidade: Volta Redonda\n",
            "Digite o nome da terceira cidade: São José dos Campos\n",
            "['Resende', 'Volta Redonda', 'São José dos Campos']\n"
          ]
        }
      ]
    },
    {
      "cell_type": "markdown",
      "source": [
        "**Faça um programa que inicialize uma lista com vários números diferentes, depois disso, solicite ao usuário um número, verifique se o número está ou não na lista e exiba uma mensagem notificando o usuário do resultado.**"
      ],
      "metadata": {
        "id": "ftncodckphGD"
      }
    },
    {
      "cell_type": "code",
      "source": [
        "numeros = [1,3,6,9,15,27,50]\n",
        "numero_digitado = int(input(\"Digite um número: \"))\n",
        "\n",
        "if numero_digitado in numeros:\n",
        "  print(f\"O número {numero_digitado} está na lista\")\n",
        "else:\n",
        "  print(f\"O número {numero_digitado} não está na lista\")"
      ],
      "metadata": {
        "colab": {
          "base_uri": "https://localhost:8080/"
        },
        "id": "6xMmjS8SqJqo",
        "outputId": "ce41c538-2c0b-44af-8f39-cf477a0b46ab"
      },
      "execution_count": 14,
      "outputs": [
        {
          "output_type": "stream",
          "name": "stdout",
          "text": [
            "Digite um número: 27\n",
            "O número 27 está na lista\n"
          ]
        }
      ]
    },
    {
      "cell_type": "markdown",
      "source": [
        "**Faça um programa que inicialize uma lista vazia e a preencha com 5 nomes diferentes digitados pelo usuário, depois disso solicite um número de 0 até 4 e remova o elemento desta posição.**"
      ],
      "metadata": {
        "id": "NSsE8DJqqyjT"
      }
    },
    {
      "cell_type": "code",
      "source": [
        "nomes = []\n",
        "nomes.append(input(\"Digite o primeiro nome: \"))\n",
        "nomes.append(input(\"Digite o segundo nome: \"))\n",
        "nomes.append(input(\"Digite o terceiro nome: \"))\n",
        "nomes.append(input(\"Digite o quarto nome: \"))\n",
        "nomes.append(input(\"Digite o quinto nome: \"))\n",
        "\n",
        "posicao_para_excluir = int(input(\"Escolha uma posição de 0(zero) até quatro para excluir da lista\"))\n",
        "del nomes[posicao_para_excluir]\n",
        "print(nomes)"
      ],
      "metadata": {
        "colab": {
          "base_uri": "https://localhost:8080/"
        },
        "id": "LkdOE2Ekq5O_",
        "outputId": "b57f60a8-a90e-46cf-e899-232a8bdbd051"
      },
      "execution_count": 16,
      "outputs": [
        {
          "output_type": "stream",
          "name": "stdout",
          "text": [
            "Digite o primeiro nome: Antonio\n",
            "Digite o segundo nome: Ruana\n",
            "Digite o terceiro nome: Karina\n",
            "Digite o quarto nome: Ana\n",
            "Digite o quinto nome: Aparecida\n",
            "Escolha uma posição de 0(zero) até quatro para excluir da lista4\n",
            "['Antonio', 'Ruana', 'Karina', 'Ana']\n"
          ]
        }
      ]
    },
    {
      "cell_type": "markdown",
      "source": [
        "**Faça um programa que exiba as tabuadas de 1 até 10 no formato: \"2 x 3 = 6\", (utilize dois comandos for)**"
      ],
      "metadata": {
        "id": "DIQU8Bddrztr"
      }
    },
    {
      "cell_type": "code",
      "source": [
        "for operador in range(1,11):\n",
        "  for operador_2 in range(1,11):\n",
        "    resultado = operador * operador_2\n",
        "    print(f\"{operador} X {operador_2} = {resultado}\")"
      ],
      "metadata": {
        "colab": {
          "base_uri": "https://localhost:8080/"
        },
        "id": "GXDFf8VLtyFb",
        "outputId": "74cfd25d-3c0a-4787-91c2-ef6ada6c9e8d"
      },
      "execution_count": 19,
      "outputs": [
        {
          "output_type": "stream",
          "name": "stdout",
          "text": [
            "1 X 1 = 1\n",
            "1 X 2 = 2\n",
            "1 X 3 = 3\n",
            "1 X 4 = 4\n",
            "1 X 5 = 5\n",
            "1 X 6 = 6\n",
            "1 X 7 = 7\n",
            "1 X 8 = 8\n",
            "1 X 9 = 9\n",
            "1 X 10 = 10\n",
            "2 X 1 = 2\n",
            "2 X 2 = 4\n",
            "2 X 3 = 6\n",
            "2 X 4 = 8\n",
            "2 X 5 = 10\n",
            "2 X 6 = 12\n",
            "2 X 7 = 14\n",
            "2 X 8 = 16\n",
            "2 X 9 = 18\n",
            "2 X 10 = 20\n",
            "3 X 1 = 3\n",
            "3 X 2 = 6\n",
            "3 X 3 = 9\n",
            "3 X 4 = 12\n",
            "3 X 5 = 15\n",
            "3 X 6 = 18\n",
            "3 X 7 = 21\n",
            "3 X 8 = 24\n",
            "3 X 9 = 27\n",
            "3 X 10 = 30\n",
            "4 X 1 = 4\n",
            "4 X 2 = 8\n",
            "4 X 3 = 12\n",
            "4 X 4 = 16\n",
            "4 X 5 = 20\n",
            "4 X 6 = 24\n",
            "4 X 7 = 28\n",
            "4 X 8 = 32\n",
            "4 X 9 = 36\n",
            "4 X 10 = 40\n",
            "5 X 1 = 5\n",
            "5 X 2 = 10\n",
            "5 X 3 = 15\n",
            "5 X 4 = 20\n",
            "5 X 5 = 25\n",
            "5 X 6 = 30\n",
            "5 X 7 = 35\n",
            "5 X 8 = 40\n",
            "5 X 9 = 45\n",
            "5 X 10 = 50\n",
            "6 X 1 = 6\n",
            "6 X 2 = 12\n",
            "6 X 3 = 18\n",
            "6 X 4 = 24\n",
            "6 X 5 = 30\n",
            "6 X 6 = 36\n",
            "6 X 7 = 42\n",
            "6 X 8 = 48\n",
            "6 X 9 = 54\n",
            "6 X 10 = 60\n",
            "7 X 1 = 7\n",
            "7 X 2 = 14\n",
            "7 X 3 = 21\n",
            "7 X 4 = 28\n",
            "7 X 5 = 35\n",
            "7 X 6 = 42\n",
            "7 X 7 = 49\n",
            "7 X 8 = 56\n",
            "7 X 9 = 63\n",
            "7 X 10 = 70\n",
            "8 X 1 = 8\n",
            "8 X 2 = 16\n",
            "8 X 3 = 24\n",
            "8 X 4 = 32\n",
            "8 X 5 = 40\n",
            "8 X 6 = 48\n",
            "8 X 7 = 56\n",
            "8 X 8 = 64\n",
            "8 X 9 = 72\n",
            "8 X 10 = 80\n",
            "9 X 1 = 9\n",
            "9 X 2 = 18\n",
            "9 X 3 = 27\n",
            "9 X 4 = 36\n",
            "9 X 5 = 45\n",
            "9 X 6 = 54\n",
            "9 X 7 = 63\n",
            "9 X 8 = 72\n",
            "9 X 9 = 81\n",
            "9 X 10 = 90\n",
            "10 X 1 = 10\n",
            "10 X 2 = 20\n",
            "10 X 3 = 30\n",
            "10 X 4 = 40\n",
            "10 X 5 = 50\n",
            "10 X 6 = 60\n",
            "10 X 7 = 70\n",
            "10 X 8 = 80\n",
            "10 X 9 = 90\n",
            "10 X 10 = 100\n"
          ]
        }
      ]
    },
    {
      "cell_type": "markdown",
      "source": [
        ""
      ],
      "metadata": {
        "id": "Z3QOQOy0uomJ"
      }
    }
  ]
}