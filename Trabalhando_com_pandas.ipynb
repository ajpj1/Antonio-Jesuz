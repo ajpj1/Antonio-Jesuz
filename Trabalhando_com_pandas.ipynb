{
  "nbformat": 4,
  "nbformat_minor": 0,
  "metadata": {
    "colab": {
      "name": "Trabalhando com pandas.ipynb",
      "provenance": [],
      "authorship_tag": "ABX9TyNaoh65wqVCfBVHU7Rbst+V",
      "include_colab_link": true
    },
    "kernelspec": {
      "name": "python3",
      "display_name": "Python 3"
    },
    "language_info": {
      "name": "python"
    }
  },
  "cells": [
    {
      "cell_type": "markdown",
      "metadata": {
        "id": "view-in-github",
        "colab_type": "text"
      },
      "source": [
        "<a href=\"https://colab.research.google.com/github/ajpj1/Antonio-Jesuz/blob/main/Trabalhando_com_pandas.ipynb\" target=\"_parent\"><img src=\"https://colab.research.google.com/assets/colab-badge.svg\" alt=\"Open In Colab\"/></a>"
      ]
    },
    {
      "cell_type": "markdown",
      "metadata": {
        "id": "QXamKk4KRMxe"
      },
      "source": [
        "**Importando a lista de alunos**"
      ]
    },
    {
      "cell_type": "code",
      "metadata": {
        "id": "EYJeQ_zUPQiw"
      },
      "source": [
        "import pandas as pd\n",
        "alunos = {'Nome':['Ricardo', 'Pedro', 'Roberto', 'Carlos'], \n",
        "         'Nota': [4, 7, 5.5, 9],\n",
        "         'Aprovado': ['Não', 'Sim', 'Não', 'Sim']}"
      ],
      "execution_count": 9,
      "outputs": []
    },
    {
      "cell_type": "code",
      "metadata": {
        "id": "G5HZyZthR2GM"
      },
      "source": [
        "dataframe = pd.DataFrame(alunos)"
      ],
      "execution_count": 10,
      "outputs": []
    },
    {
      "cell_type": "markdown",
      "metadata": {
        "id": "huWBFbzQUa_V"
      },
      "source": [
        "**Transformando em dataframe ou Tabelas**"
      ]
    },
    {
      "cell_type": "code",
      "metadata": {
        "colab": {
          "base_uri": "https://localhost:8080/"
        },
        "id": "fhe-AP_LSIBV",
        "outputId": "0cc98aab-5539-4ab3-a991-a22a1faaa518"
      },
      "source": [
        "print(dataframe)"
      ],
      "execution_count": 11,
      "outputs": [
        {
          "output_type": "stream",
          "text": [
            "      Nome  Nota Aprovado\n",
            "0  Ricardo   4.0      Não\n",
            "1    Pedro   7.0      Sim\n",
            "2  Roberto   5.5      Não\n",
            "3   Carlos   9.0      Sim\n"
          ],
          "name": "stdout"
        }
      ]
    },
    {
      "cell_type": "markdown",
      "metadata": {
        "id": "ht5ph64PV219"
      },
      "source": [
        "**Transformando a lista em Serie pandas**"
      ]
    },
    {
      "cell_type": "code",
      "metadata": {
        "colab": {
          "base_uri": "https://localhost:8080/"
        },
        "id": "7XbLeWSKSNW8",
        "outputId": "41f4f141-c86a-41de-f091-4b042e9b479b"
      },
      "source": [
        "objeto1 = pd.Series([2, 6, 9, 10, 5])\n",
        "print(objeto1)"
      ],
      "execution_count": 12,
      "outputs": [
        {
          "output_type": "stream",
          "text": [
            "0     2\n",
            "1     6\n",
            "2     9\n",
            "3    10\n",
            "4     5\n",
            "dtype: int64\n"
          ],
          "name": "stdout"
        }
      ]
    },
    {
      "cell_type": "code",
      "metadata": {
        "colab": {
          "base_uri": "https://localhost:8080/"
        },
        "id": "L3Qg9w9NULHb",
        "outputId": "55abc858-9296-456e-fd6d-91d0a35d6082"
      },
      "source": [
        "import numpy as np1\n",
        "array1 = np.array([6, 12, 2, 9, 10])\n",
        "array2 = np.array ([(2, 6, 9, 10, 5), (6, 12, 2, 9, 10)])\n",
        "print(array1)\n",
        "print (array2)"
      ],
      "execution_count": 19,
      "outputs": [
        {
          "output_type": "stream",
          "text": [
            "[ 6 12  2  9 10]\n",
            "[[ 2  6  9 10  5]\n",
            " [ 6 12  2  9 10]]\n"
          ],
          "name": "stdout"
        }
      ]
    },
    {
      "cell_type": "markdown",
      "metadata": {
        "id": "pOH_C-5tV9yr"
      },
      "source": [
        "**Transformou serie em pandas em lista**"
      ]
    },
    {
      "cell_type": "code",
      "metadata": {
        "colab": {
          "base_uri": "https://localhost:8080/"
        },
        "id": "ey-5vmvTUA15",
        "outputId": "2772c2e8-230c-4044-ca97-1ae93b5bf4ed"
      },
      "source": [
        "objeto2 = pd.Series(array1)\n",
        "print(objeto2)"
      ],
      "execution_count": 21,
      "outputs": [
        {
          "output_type": "stream",
          "text": [
            "0     6\n",
            "1    12\n",
            "2     2\n",
            "3     9\n",
            "4    10\n",
            "dtype: int64\n"
          ],
          "name": "stdout"
        }
      ]
    },
    {
      "cell_type": "code",
      "metadata": {
        "id": "p_FL1e2ZWCh9"
      },
      "source": [
        ""
      ],
      "execution_count": null,
      "outputs": []
    }
  ]
}