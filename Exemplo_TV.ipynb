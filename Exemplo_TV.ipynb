{
  "nbformat": 4,
  "nbformat_minor": 0,
  "metadata": {
    "colab": {
      "name": "Exemplo_TV.ipynb",
      "provenance": [],
      "authorship_tag": "ABX9TyMP8snwmgOBMMmfUuhmTBCx",
      "include_colab_link": true
    },
    "kernelspec": {
      "name": "python3",
      "display_name": "Python 3"
    },
    "language_info": {
      "name": "python"
    }
  },
  "cells": [
    {
      "cell_type": "markdown",
      "metadata": {
        "id": "view-in-github",
        "colab_type": "text"
      },
      "source": [
        "<a href=\"https://colab.research.google.com/github/ajpj1/Antonio-Jesuz/blob/main/Exemplo_TV.ipynb\" target=\"_parent\"><img src=\"https://colab.research.google.com/assets/colab-badge.svg\" alt=\"Open In Colab\"/></a>"
      ]
    },
    {
      "cell_type": "code",
      "metadata": {
        "colab": {
          "base_uri": "https://localhost:8080/"
        },
        "id": "ilgviEZ9cRyp",
        "outputId": "c7206f15-2ca0-485f-bc4b-3032e245daf1"
      },
      "source": [
        "class Televisao():\n",
        "\n",
        "    def __init__(self):\n",
        "        self.ligada = False\n",
        "        self.canal = 2\n",
        "\n",
        "    def muda_canal_para_baixo(self):\n",
        "        self.canal -= 1\n",
        "\n",
        "    def muda_canal_para_cima(self):\n",
        "        self.canal += 1\n",
        "\n",
        "if __name__ == '__main__':\n",
        "    tv = Televisao()\n",
        "    print('Canal inicial:', tv.canal)\n",
        "    print('Ligada:', tv.ligada)\n",
        "\n",
        "    tv.ligada = True\n",
        "    tv.canal = 5\n",
        "\n",
        "    print('Ligada:', tv.ligada)\n",
        "    print('Canal inicial:', tv.canal)\n",
        "    tv.muda_canal_para_cima()\n",
        "    print('Canal +', tv.canal)\n",
        "    tv.muda_canal_para_cima()\n",
        "    print('Canal +', tv.canal)\n",
        "    tv.muda_canal_para_baixo()\n",
        "    print('Canal -', tv.canal)"
      ],
      "execution_count": 6,
      "outputs": [
        {
          "output_type": "stream",
          "text": [
            "Canal inicial: 2\n",
            "Ligada: False\n",
            "Ligada: True\n",
            "Canal inicial: 5\n",
            "Canal + 6\n",
            "Canal + 7\n",
            "Canal - 6\n"
          ],
          "name": "stdout"
        }
      ]
    },
    {
      "cell_type": "code",
      "metadata": {
        "id": "5tYBzRc9dLIf"
      },
      "source": [
        ""
      ],
      "execution_count": null,
      "outputs": []
    }
  ]
}