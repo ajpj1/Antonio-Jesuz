{
  "nbformat": 4,
  "nbformat_minor": 0,
  "metadata": {
    "colab": {
      "name": "Pokemon .ipynb",
      "provenance": [],
      "authorship_tag": "ABX9TyMcTAcJmasQFk10jHsYJd0I",
      "include_colab_link": true
    },
    "kernelspec": {
      "name": "python3",
      "display_name": "Python 3"
    },
    "language_info": {
      "name": "python"
    }
  },
  "cells": [
    {
      "cell_type": "markdown",
      "metadata": {
        "id": "view-in-github",
        "colab_type": "text"
      },
      "source": [
        "<a href=\"https://colab.research.google.com/github/ajpj1/Antonio-Jesuz/blob/main/Pokemon_.ipynb\" target=\"_parent\"><img src=\"https://colab.research.google.com/assets/colab-badge.svg\" alt=\"Open In Colab\"/></a>"
      ]
    },
    {
      "cell_type": "markdown",
      "metadata": {
        "id": "U4tH1F0WOXW0"
      },
      "source": [
        "**Importando a biblioteca pandas**"
      ]
    },
    {
      "cell_type": "code",
      "metadata": {
        "id": "jQosb9qzLAxH"
      },
      "source": [
        "import pandas as pd"
      ],
      "execution_count": 16,
      "outputs": []
    },
    {
      "cell_type": "markdown",
      "metadata": {
        "id": "J_nIJB-dUr6H"
      },
      "source": [
        "**Criar um dicionário com os dados**\n"
      ]
    },
    {
      "cell_type": "code",
      "metadata": {
        "id": "2rzyeSrHUqhZ"
      },
      "source": [
        "raw_data = {\"Nome\": ['Bulbasaur', 'Charmander', 'Squirtle', 'Caterpie'],\n",
        "            \"Evolução\": ['Ivysaur', 'Charmeleon', 'Wartortle', 'Metapod'],\n",
        "            \"Tipo\": ['planta', 'fogo', 'agua', 'inseto'],\n",
        "            \"Vida\": [45,39,44,55],\n",
        "            \"Pokedex\": ['sim', 'não', 'sim','não']\n",
        "            }"
      ],
      "execution_count": 21,
      "outputs": []
    },
    {
      "cell_type": "code",
      "metadata": {
        "colab": {
          "base_uri": "https://localhost:8080/",
          "height": 175
        },
        "id": "yKelM-ZNVa2L",
        "outputId": "28d6baa7-fbbc-4633-c300-b912a38d4a7d"
      },
      "source": [
        "pokemon = pd.DataFrame(raw_data)\n",
        "pokemon.head()"
      ],
      "execution_count": 22,
      "outputs": [
        {
          "output_type": "execute_result",
          "data": {
            "text/html": [
              "<div>\n",
              "<style scoped>\n",
              "    .dataframe tbody tr th:only-of-type {\n",
              "        vertical-align: middle;\n",
              "    }\n",
              "\n",
              "    .dataframe tbody tr th {\n",
              "        vertical-align: top;\n",
              "    }\n",
              "\n",
              "    .dataframe thead th {\n",
              "        text-align: right;\n",
              "    }\n",
              "</style>\n",
              "<table border=\"1\" class=\"dataframe\">\n",
              "  <thead>\n",
              "    <tr style=\"text-align: right;\">\n",
              "      <th></th>\n",
              "      <th>Nome</th>\n",
              "      <th>Evolução</th>\n",
              "      <th>Tipo</th>\n",
              "      <th>Vida</th>\n",
              "      <th>Pokedex</th>\n",
              "    </tr>\n",
              "  </thead>\n",
              "  <tbody>\n",
              "    <tr>\n",
              "      <th>0</th>\n",
              "      <td>Bulbasaur</td>\n",
              "      <td>Ivysaur</td>\n",
              "      <td>planta</td>\n",
              "      <td>45</td>\n",
              "      <td>sim</td>\n",
              "    </tr>\n",
              "    <tr>\n",
              "      <th>1</th>\n",
              "      <td>Charmander</td>\n",
              "      <td>Charmeleon</td>\n",
              "      <td>fogo</td>\n",
              "      <td>39</td>\n",
              "      <td>não</td>\n",
              "    </tr>\n",
              "    <tr>\n",
              "      <th>2</th>\n",
              "      <td>Squirtle</td>\n",
              "      <td>Wartortle</td>\n",
              "      <td>agua</td>\n",
              "      <td>44</td>\n",
              "      <td>sim</td>\n",
              "    </tr>\n",
              "    <tr>\n",
              "      <th>3</th>\n",
              "      <td>Caterpie</td>\n",
              "      <td>Metapod</td>\n",
              "      <td>inseto</td>\n",
              "      <td>55</td>\n",
              "      <td>não</td>\n",
              "    </tr>\n",
              "  </tbody>\n",
              "</table>\n",
              "</div>"
            ],
            "text/plain": [
              "         Nome    Evolução    Tipo  Vida Pokedex\n",
              "0   Bulbasaur     Ivysaur  planta    45     sim\n",
              "1  Charmander  Charmeleon    fogo    39     não\n",
              "2    Squirtle   Wartortle    agua    44     sim\n",
              "3    Caterpie     Metapod  inseto    55     não"
            ]
          },
          "metadata": {
            "tags": []
          },
          "execution_count": 22
        }
      ]
    },
    {
      "cell_type": "markdown",
      "metadata": {
        "id": "gHuNnWvoV67t"
      },
      "source": [
        "**Ops ... parece que as colunas do DataFrame estão em ordem alfabética. Coloque a ordem das colunas como nome, tipo, hp, evolução, pokedex**"
      ]
    },
    {
      "cell_type": "code",
      "metadata": {
        "colab": {
          "base_uri": "https://localhost:8080/",
          "height": 175
        },
        "id": "p71A4eRSVgem",
        "outputId": "5272cd8c-513d-43ce-e5b2-3229d83b0c3b"
      },
      "source": [
        "pokemon = pokemon [['Nome','Tipo', 'Vida', 'Evolução', 'Pokedex']]\n",
        "pokemon\n"
      ],
      "execution_count": 24,
      "outputs": [
        {
          "output_type": "execute_result",
          "data": {
            "text/html": [
              "<div>\n",
              "<style scoped>\n",
              "    .dataframe tbody tr th:only-of-type {\n",
              "        vertical-align: middle;\n",
              "    }\n",
              "\n",
              "    .dataframe tbody tr th {\n",
              "        vertical-align: top;\n",
              "    }\n",
              "\n",
              "    .dataframe thead th {\n",
              "        text-align: right;\n",
              "    }\n",
              "</style>\n",
              "<table border=\"1\" class=\"dataframe\">\n",
              "  <thead>\n",
              "    <tr style=\"text-align: right;\">\n",
              "      <th></th>\n",
              "      <th>Nome</th>\n",
              "      <th>Tipo</th>\n",
              "      <th>Vida</th>\n",
              "      <th>Evolução</th>\n",
              "      <th>Pokedex</th>\n",
              "    </tr>\n",
              "  </thead>\n",
              "  <tbody>\n",
              "    <tr>\n",
              "      <th>0</th>\n",
              "      <td>Bulbasaur</td>\n",
              "      <td>planta</td>\n",
              "      <td>45</td>\n",
              "      <td>Ivysaur</td>\n",
              "      <td>sim</td>\n",
              "    </tr>\n",
              "    <tr>\n",
              "      <th>1</th>\n",
              "      <td>Charmander</td>\n",
              "      <td>fogo</td>\n",
              "      <td>39</td>\n",
              "      <td>Charmeleon</td>\n",
              "      <td>não</td>\n",
              "    </tr>\n",
              "    <tr>\n",
              "      <th>2</th>\n",
              "      <td>Squirtle</td>\n",
              "      <td>agua</td>\n",
              "      <td>44</td>\n",
              "      <td>Wartortle</td>\n",
              "      <td>sim</td>\n",
              "    </tr>\n",
              "    <tr>\n",
              "      <th>3</th>\n",
              "      <td>Caterpie</td>\n",
              "      <td>inseto</td>\n",
              "      <td>55</td>\n",
              "      <td>Metapod</td>\n",
              "      <td>não</td>\n",
              "    </tr>\n",
              "  </tbody>\n",
              "</table>\n",
              "</div>"
            ],
            "text/plain": [
              "         Nome    Tipo  Vida    Evolução Pokedex\n",
              "0   Bulbasaur  planta    45     Ivysaur     sim\n",
              "1  Charmander    fogo    39  Charmeleon     não\n",
              "2    Squirtle    agua    44   Wartortle     sim\n",
              "3    Caterpie  inseto    55     Metapod     não"
            ]
          },
          "metadata": {
            "tags": []
          },
          "execution_count": 24
        }
      ]
    },
    {
      "cell_type": "markdown",
      "metadata": {
        "id": "NcEVLyo7XRGK"
      },
      "source": [
        "**Adicione outra coluna chamada local e insira o que você tem em mente.**"
      ]
    },
    {
      "cell_type": "code",
      "metadata": {
        "colab": {
          "base_uri": "https://localhost:8080/",
          "height": 175
        },
        "id": "3085f_WJWNwn",
        "outputId": "4a136ba3-30ef-4595-cc21-34d5e6d37f32"
      },
      "source": [
        "pokemon ['Lugar'] = ['Parque', 'Rua', 'Lago', 'Floresta']\n",
        "pokemon"
      ],
      "execution_count": 27,
      "outputs": [
        {
          "output_type": "execute_result",
          "data": {
            "text/html": [
              "<div>\n",
              "<style scoped>\n",
              "    .dataframe tbody tr th:only-of-type {\n",
              "        vertical-align: middle;\n",
              "    }\n",
              "\n",
              "    .dataframe tbody tr th {\n",
              "        vertical-align: top;\n",
              "    }\n",
              "\n",
              "    .dataframe thead th {\n",
              "        text-align: right;\n",
              "    }\n",
              "</style>\n",
              "<table border=\"1\" class=\"dataframe\">\n",
              "  <thead>\n",
              "    <tr style=\"text-align: right;\">\n",
              "      <th></th>\n",
              "      <th>Nome</th>\n",
              "      <th>Tipo</th>\n",
              "      <th>Vida</th>\n",
              "      <th>Evolução</th>\n",
              "      <th>Pokedex</th>\n",
              "      <th>lugar</th>\n",
              "      <th>Lugar</th>\n",
              "    </tr>\n",
              "  </thead>\n",
              "  <tbody>\n",
              "    <tr>\n",
              "      <th>0</th>\n",
              "      <td>Bulbasaur</td>\n",
              "      <td>planta</td>\n",
              "      <td>45</td>\n",
              "      <td>Ivysaur</td>\n",
              "      <td>sim</td>\n",
              "      <td>Parque</td>\n",
              "      <td>Parque</td>\n",
              "    </tr>\n",
              "    <tr>\n",
              "      <th>1</th>\n",
              "      <td>Charmander</td>\n",
              "      <td>fogo</td>\n",
              "      <td>39</td>\n",
              "      <td>Charmeleon</td>\n",
              "      <td>não</td>\n",
              "      <td>Rua</td>\n",
              "      <td>Rua</td>\n",
              "    </tr>\n",
              "    <tr>\n",
              "      <th>2</th>\n",
              "      <td>Squirtle</td>\n",
              "      <td>agua</td>\n",
              "      <td>44</td>\n",
              "      <td>Wartortle</td>\n",
              "      <td>sim</td>\n",
              "      <td>Lago</td>\n",
              "      <td>Lago</td>\n",
              "    </tr>\n",
              "    <tr>\n",
              "      <th>3</th>\n",
              "      <td>Caterpie</td>\n",
              "      <td>inseto</td>\n",
              "      <td>55</td>\n",
              "      <td>Metapod</td>\n",
              "      <td>não</td>\n",
              "      <td>Floresta</td>\n",
              "      <td>Floresta</td>\n",
              "    </tr>\n",
              "  </tbody>\n",
              "</table>\n",
              "</div>"
            ],
            "text/plain": [
              "         Nome    Tipo  Vida    Evolução Pokedex     lugar     Lugar\n",
              "0   Bulbasaur  planta    45     Ivysaur     sim    Parque    Parque\n",
              "1  Charmander    fogo    39  Charmeleon     não       Rua       Rua\n",
              "2    Squirtle    agua    44   Wartortle     sim      Lago      Lago\n",
              "3    Caterpie  inseto    55     Metapod     não  Floresta  Floresta"
            ]
          },
          "metadata": {
            "tags": []
          },
          "execution_count": 27
        }
      ]
    },
    {
      "cell_type": "code",
      "metadata": {
        "colab": {
          "base_uri": "https://localhost:8080/"
        },
        "id": "cg-9I5RCXA7b",
        "outputId": "2057551f-ec91-44df-ee79-a1e6ab6bfc2e"
      },
      "source": [
        "pokemon.dtypes"
      ],
      "execution_count": 28,
      "outputs": [
        {
          "output_type": "execute_result",
          "data": {
            "text/plain": [
              "Nome        object\n",
              "Tipo        object\n",
              "Vida         int64\n",
              "Evolução    object\n",
              "Pokedex     object\n",
              "lugar       object\n",
              "Lugar       object\n",
              "dtype: object"
            ]
          },
          "metadata": {
            "tags": []
          },
          "execution_count": 28
        }
      ]
    },
    {
      "cell_type": "code",
      "metadata": {
        "id": "ERtwarzEXfVi"
      },
      "source": [
        ""
      ],
      "execution_count": null,
      "outputs": []
    }
  ]
}